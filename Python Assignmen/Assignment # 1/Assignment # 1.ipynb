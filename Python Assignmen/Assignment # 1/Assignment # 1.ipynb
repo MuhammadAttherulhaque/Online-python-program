{
  "nbformat": 4,
  "nbformat_minor": 0,
  "metadata": {
    "colab": {
      "name": "Untitled7.ipynb",
      "provenance": []
    },
    "kernelspec": {
      "name": "python3",
      "display_name": "Python 3"
    },
    "language_info": {
      "name": "python"
    }
  },
  "cells": [
    {
      "cell_type": "markdown",
      "source": [
        "# Assignment # 1\n",
        "## Name: M Atthe ul haq"
      ],
      "metadata": {
        "id": "0gDmF8lKTvca"
      }
    },
    {
      "cell_type": "code",
      "execution_count": 9,
      "metadata": {
        "id": "YmcQlk-qMSn6",
        "colab": {
          "base_uri": "https://localhost:8080/"
        },
        "outputId": "f73fa56d-816f-4d5e-bb63-6fb4a09de9d9"
      },
      "outputs": [
        {
          "output_type": "stream",
          "name": "stdout",
          "text": [
            "Twinkle, twinkle, little star, \n",
            "\t How I wonder what you are! \n",
            "\t\t Up above the world so high, \n",
            "\t\t Like a diamond in the sky. \n",
            "Twinkle, twinkle, little star, \n",
            "\tHow I wonder what you are\n"
          ]
        }
      ],
      "source": [
        "# 1\n",
        "print(\"Twinkle, twinkle, little star, \\n\\t How I wonder what you are! \\n\\t\\t Up above the world so high, \\n\\t\\t Like a diamond in the sky. \\nTwinkle, twinkle, little star, \\n\\tHow I wonder what you are\")"
      ]
    },
    {
      "cell_type": "markdown",
      "source": [
        ""
      ],
      "metadata": {
        "id": "jviNryj1OMSV"
      }
    },
    {
      "cell_type": "code",
      "source": [
        "# 2\n",
        "from platform import python_version\n",
        "print(python_version())\n"
      ],
      "metadata": {
        "colab": {
          "base_uri": "https://localhost:8080/"
        },
        "id": "GcGKg-p-pUoI",
        "outputId": "e2cdc5af-b477-42a7-b66c-6b7ee5ff020b"
      },
      "execution_count": 25,
      "outputs": [
        {
          "output_type": "stream",
          "name": "stdout",
          "text": [
            "3.7.12\n"
          ]
        }
      ]
    },
    {
      "cell_type": "code",
      "source": [
        "# 3\n",
        "from datetime import datetime\n",
        "c_dt = datetime.now()\n",
        "str_cdt=c_dt.strftime(\"%d/%m/%Y %H:%M:%S\")\n",
        "print(str_cdt)"
      ],
      "metadata": {
        "colab": {
          "base_uri": "https://localhost:8080/"
        },
        "id": "orrCRjWQpdLo",
        "outputId": "3cbcfcc4-edab-432c-f8ff-28cefdd78270"
      },
      "execution_count": 16,
      "outputs": [
        {
          "output_type": "stream",
          "name": "stdout",
          "text": [
            "31/12/2021 06:28:41\n"
          ]
        }
      ]
    },
    {
      "cell_type": "code",
      "source": [
        "\n",
        "# 4\n",
        "import math\n",
        "radius=float(input(\"Enter vlue for radious:\"))\n",
        "areatostr=str(math.pi*(radius**2))\n",
        "\n",
        "print(\"The area of circle of given radius is: \"+ areatostr)\n"
      ],
      "metadata": {
        "colab": {
          "base_uri": "https://localhost:8080/"
        },
        "id": "HOKBFjAIqZh4",
        "outputId": "84086816-a6d6-4853-f06d-29625f990966"
      },
      "execution_count": 24,
      "outputs": [
        {
          "output_type": "stream",
          "name": "stdout",
          "text": [
            "Enter vlue for radious:2.5\n",
            "The area of circle of given radius is: 19.634954084936208\n"
          ]
        }
      ]
    },
    {
      "cell_type": "code",
      "source": [
        "# 5\n",
        "f_name=input(\"Enter your first name:\")\n",
        "l_name=input(\"Enter your last name:\")\n",
        "f_name=f_name+\" \"+l_name\n",
        "rf_name=f_name[::-1]\n",
        "print(rf_name)"
      ],
      "metadata": {
        "id": "cMMqRVJottAO",
        "colab": {
          "base_uri": "https://localhost:8080/"
        },
        "outputId": "ccf16d82-9763-452e-b7ca-49c589862d6b"
      },
      "execution_count": 34,
      "outputs": [
        {
          "output_type": "stream",
          "name": "stdout",
          "text": [
            "Enter your first name:Atther\n",
            "Enter your last name:ul haq\n",
            "qah lu rehttA\n"
          ]
        }
      ]
    },
    {
      "cell_type": "code",
      "source": [
        "# 6 \n",
        "num1=float(input(\"Enter First number:\"))\n",
        "num2=float(input(\"Enter Secound number:\"))\n",
        "sum=num1+num2\n",
        "print(sum)\n"
      ],
      "metadata": {
        "colab": {
          "base_uri": "https://localhost:8080/"
        },
        "id": "XqwO_S6kONV1",
        "outputId": "011bd475-39ae-46f9-f405-51976bff75aa"
      },
      "execution_count": 44,
      "outputs": [
        {
          "output_type": "stream",
          "name": "stdout",
          "text": [
            "Enter First number:67\n",
            "Enter Secound number:56\n",
            "123.0\n"
          ]
        }
      ]
    },
    {
      "cell_type": "code",
      "source": [
        ""
      ],
      "metadata": {
        "id": "Gf0kLIXXp2bq"
      },
      "execution_count": null,
      "outputs": []
    }
  ]
}